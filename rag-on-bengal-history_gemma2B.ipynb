{
 "cells": [
  {
   "cell_type": "markdown",
   "metadata": {},
   "source": [
    "# Introduction: A Retreival Augmented Generation (RAG)-based AI assistant\n",
    "\n",
    "#### We use Retreival Augmented Generation (RAG) to answer questions on the document(s) using an LLM\n",
    "#### In this notebook we go through the following steps:\n",
    "\n",
    "1. Collect the document(s) from different webpages in the website: We choose to build an AI assistant on the history of Bengal, so we pick the relevant pages from wikipedia\n",
    "2. Split the document(s) into chunks -- could be the original pages themselves\n",
    "3. Transform the chunks into embedding vectors \n",
    "3. Create a FAISS vector database with the chunks and embeddings\n",
    "4. Query the database with a question, and retrieve the most relevant chunks, which we call context\n",
    "5. Combine a \"system prompt\" and the context to create a query for the LLM\n",
    "6. Generate an answer from the LLM using this query\n",
    "\n",
    "#### - Large Language Model used: Gemma2B \n",
    "#### - Embedding Model used: bge-small-en-v1.5\n",
    "#### - Reranker model.  Consider 'BAAI/bge-reranker-large'\n",
    "\n",
    "\n",
    "\n"
   ]
  },
  {
   "cell_type": "markdown",
   "metadata": {},
   "source": [
    "## Define wikipedia categories (all pages within these categories will be used)\n",
    "As we want to answer questions on the history of Bengal, we choose the following categories"
   ]
  },
  {
   "cell_type": "code",
   "execution_count": null,
   "metadata": {},
   "outputs": [],
   "source": [
    "categories = [\"History_of_Bengal\", \"History of Bangladesh\", \"Bengal Renaissance\",\n",
    "             \"History of Kolkata\", \"History of West Bengal\" ]"
   ]
  },
  {
   "cell_type": "markdown",
   "metadata": {
    "execution": {
     "iopub.execute_input": "2024-03-28T17:05:09.237875Z",
     "iopub.status.busy": "2024-03-28T17:05:09.237587Z",
     "iopub.status.idle": "2024-03-28T17:05:09.241633Z",
     "shell.execute_reply": "2024-03-28T17:05:09.240748Z",
     "shell.execute_reply.started": "2024-03-28T17:05:09.237852Z"
    }
   },
   "source": [
    "# Pip install packages "
   ]
  },
  {
   "cell_type": "code",
   "execution_count": 2,
   "metadata": {
    "_cell_guid": "b1076dfc-b9ad-4769-8c92-a6c4dae69d19",
    "_uuid": "8f2839f25d086af736a60e9eeb907d3b93b6e0e5",
    "execution": {
     "iopub.execute_input": "2024-07-19T23:09:48.680157Z",
     "iopub.status.busy": "2024-07-19T23:09:48.679291Z",
     "iopub.status.idle": "2024-07-19T23:10:33.759093Z",
     "shell.execute_reply": "2024-07-19T23:10:33.757895Z",
     "shell.execute_reply.started": "2024-07-19T23:09:48.680115Z"
    },
    "trusted": true
   },
   "outputs": [
    {
     "name": "stdout",
     "output_type": "stream",
     "text": [
      "CPU times: user 107 ms, sys: 35.4 ms, total: 143 ms\n",
      "Wall time: 45.1 s\n"
     ]
    }
   ],
   "source": [
    "%%time\n",
    "%%capture\n",
    "!pip install tiktoken FlagEmbedding transformers faiss-gpu\n",
    "!pip install sentence_transformers\n",
    "!pip install -q -U wikipedia-api\n",
    "#!pip install requests bs4"
   ]
  },
  {
   "cell_type": "markdown",
   "metadata": {
    "execution": {
     "iopub.execute_input": "2024-03-28T15:14:22.260257Z",
     "iopub.status.busy": "2024-03-28T15:14:22.259948Z",
     "iopub.status.idle": "2024-03-28T15:14:22.26454Z",
     "shell.execute_reply": "2024-03-28T15:14:22.263646Z",
     "shell.execute_reply.started": "2024-03-28T15:14:22.260229Z"
    }
   },
   "source": [
    "# Obtain the wikipedia pages for a given topic"
   ]
  },
  {
   "cell_type": "code",
   "execution_count": 3,
   "metadata": {
    "execution": {
     "iopub.execute_input": "2024-07-19T23:10:33.762242Z",
     "iopub.status.busy": "2024-07-19T23:10:33.761831Z",
     "iopub.status.idle": "2024-07-19T23:10:33.874375Z",
     "shell.execute_reply": "2024-07-19T23:10:33.873568Z",
     "shell.execute_reply.started": "2024-07-19T23:10:33.762205Z"
    },
    "trusted": true
   },
   "outputs": [],
   "source": [
    "from tqdm import tqdm\n",
    "import wikipediaapi\n",
    "import re\n",
    "\n",
    "# Pre-compile the regular expression pattern for better performance\n",
    "BRACES_PATTERN = re.compile(r'\\{.*?\\}|\\}')\n",
    "\n",
    "def remove_braces_and_content(text):\n",
    "    \"\"\"Remove all occurrences of curly braces and their content from the given text\"\"\"\n",
    "    return BRACES_PATTERN.sub('', text)\n",
    "\n",
    "def clean_string(input_string):\n",
    "    \"\"\"Clean the input string.\"\"\"\n",
    "    \n",
    "    # Remove extra spaces by splitting the string by spaces and joining back together\n",
    "    cleaned_string = ' '.join(input_string.split())\n",
    "    \n",
    "    # Remove consecutive carriage return characters until there are no more consecutive occurrences\n",
    "    cleaned_string = re.sub(r'\\r+', '\\r', cleaned_string)\n",
    "    \n",
    "    # Remove all occurrences of curly braces and their content from the cleaned string\n",
    "    cleaned_string = remove_braces_and_content(cleaned_string)\n",
    "    \n",
    "    # Return the cleaned string\n",
    "    return cleaned_string\n",
    "\n",
    "def extract_wiki(wiki, category_name):\n",
    "    \"\"\"Extract all references from a category on Wikipedia\"\"\"\n",
    "    \n",
    "    # Get the Wikipedia page corresponding to the provided category name\n",
    "    category = wiki.page(\"Category:\" + category_name)\n",
    "    \n",
    "    # Initialize an empty list to store page titles\n",
    "    pages = []\n",
    "    \n",
    "    # Check if the category exists\n",
    "    if category.exists():\n",
    "        # Iterate through each article in the category and append its title to the list\n",
    "        for article in category.categorymembers.values():\n",
    "            pages.append(article.title)\n",
    "    \n",
    "    # Return the list of page titles\n",
    "    return pages\n",
    "\n",
    "\n",
    "def get_wiki(categories):\n",
    "    \"\"\"Retrieve Wikipedia pages from a list of categories and extract their content\"\"\"\n",
    "    \n",
    "    # Create a Wikipedia object\n",
    "    wiki_wiki = wikipediaapi.Wikipedia('AI_Assistant', 'en')\n",
    "    \n",
    "    # Initialize lists to store explored categories and Wikipedia pages\n",
    "    explored_categories = []\n",
    "    wikipedia_pages = []\n",
    "\n",
    "    # Iterate through each category\n",
    "    print(\"- Processing Wikipedia categories:\")\n",
    "    for category_name in categories:\n",
    "        print(f\"\\tExploring {category_name} on Wikipedia\")\n",
    "        \n",
    "        # Get the Wikipedia page corresponding to the category\n",
    "        category = wiki_wiki.page(\"Category:\" + category_name)\n",
    "        \n",
    "        # Extract Wikipedia pages from the category and extend the list\n",
    "        wikipedia_pages.extend(extract_wiki(wiki_wiki, category_name))\n",
    "        \n",
    "        # Add the explored category to the list\n",
    "        explored_categories.append(category_name)\n",
    "\n",
    "    # Extract subcategories and remove duplicate categories\n",
    "    categories_to_explore = [item.replace(\"Category:\", \"\") for item in wikipedia_pages if \"Category:\" in item]\n",
    "    wikipedia_pages = list(set([item for item in wikipedia_pages if \"Category:\" not in item]))\n",
    "    \n",
    "    # Explore subcategories recursively\n",
    "    while categories_to_explore:\n",
    "        category_name = categories_to_explore.pop()\n",
    "        print(f\"\\tExploring {category_name} on Wikipedia\")\n",
    "        \n",
    "        # Extract more references from the subcategory\n",
    "        more_refs = extract_wiki(wiki_wiki, category_name)\n",
    "\n",
    "        # Iterate through the references\n",
    "        for ref in more_refs:\n",
    "            # Check if the reference is a category\n",
    "            if \"Category:\" in ref:\n",
    "                new_category = ref.replace(\"Category:\", \"\")\n",
    "                # Add the new category to the explored categories list\n",
    "                if new_category not in explored_categories:\n",
    "                    explored_categories.append(new_category)\n",
    "            else:\n",
    "                # Add the reference to the Wikipedia pages list\n",
    "                if ref not in wikipedia_pages:\n",
    "                    wikipedia_pages.append(ref)\n",
    "\n",
    "    # Initialize a list to store extracted texts\n",
    "    extracted_texts = []\n",
    "    \n",
    "    # Iterate through each Wikipedia page\n",
    "    print(\"- Processing Wikipedia pages:\")\n",
    "    for page_title in tqdm(wikipedia_pages):\n",
    "        try:\n",
    "            # Make a request to the Wikipedia page\n",
    "            page = wiki_wiki.page(page_title)\n",
    "\n",
    "            # Check if the page summary does not contain certain keywords\n",
    "            if \"Biden\" not in page.summary and \"Trump\" not in page.summary:\n",
    "                # Append the page title and summary to the extracted texts list\n",
    "                if len(page.summary) > len(page.title):\n",
    "                    extracted_texts.append(page.title + \" : \" + clean_string(page.summary))\n",
    "\n",
    "                # Iterate through the sections in the page\n",
    "                for section in page.sections:\n",
    "                    # Append the page title and section text to the extracted texts list\n",
    "                    if len(section.text) > len(page.title):\n",
    "                        extracted_texts.append(page.title + \" : \" + clean_string(section.text))\n",
    "                        \n",
    "        except Exception as e:\n",
    "            print(f\"Error processing page {page.title}: {e}\")\n",
    "                    \n",
    "    # Return the extracted texts\n",
    "    return extracted_texts"
   ]
  },
  {
   "cell_type": "code",
   "execution_count": null,
   "metadata": {
    "execution": {
     "iopub.execute_input": "2024-07-19T23:10:33.875786Z",
     "iopub.status.busy": "2024-07-19T23:10:33.875490Z",
     "iopub.status.idle": "2024-07-19T23:11:38.368944Z",
     "shell.execute_reply": "2024-07-19T23:11:38.367951Z",
     "shell.execute_reply.started": "2024-07-19T23:10:33.875761Z"
    },
    "trusted": true
   },
   "outputs": [
    {
     "name": "stdout",
     "output_type": "stream",
     "text": [
      "- Processing Wikipedia categories:\n",
      "\tExploring History_of_Bengal on Wikipedia\n",
      "\tExploring History of Bangladesh on Wikipedia\n",
      "\tExploring Bengal Renaissance on Wikipedia\n",
      "\tExploring History of Kolkata on Wikipedia\n",
      "\tExploring History of West Bengal on Wikipedia\n",
      "\tExploring History of rail transport in West Bengal on Wikipedia\n",
      "\tExploring Palaces in West Bengal on Wikipedia\n",
      "\tExploring Medieval Bengal on Wikipedia\n",
      "\tExploring History of Kolkata on Wikipedia\n",
      "\tExploring Forts in West Bengal on Wikipedia\n",
      "\tExploring Former districts of West Bengal on Wikipedia\n",
      "\tExploring Disasters in West Bengal on Wikipedia\n",
      "\tExploring Colonial Bengal on Wikipedia\n",
      "\tExploring History of Cooch Behar on Wikipedia\n",
      "\tExploring Bengal Subah on Wikipedia\n",
      "\tExploring Archaeological sites in West Bengal on Wikipedia\n",
      "\tExploring Ancient Bengal on Wikipedia\n",
      "\tExploring History of West Bengal (1947–present) on Wikipedia\n",
      "\tExploring Military history of Kolkata on Wikipedia\n",
      "\tExploring Decades in Kolkata on Wikipedia\n",
      "\tExploring Centuries in Kolkata on Wikipedia\n",
      "\tExploring Young Bengal on Wikipedia\n",
      "\tExploring Vangiya Sahitya Parishad on Wikipedia\n",
      "\tExploring Tagore family on Wikipedia\n",
      "\tExploring Brahmoism on Wikipedia\n",
      "\tExploring Academic institutions associated with the Bengal Renaissance on Wikipedia\n",
      "\tExploring Bangladesh history stubs on Wikipedia\n",
      "\tExploring Historic sites in Bangladesh on Wikipedia\n",
      "\tExploring Historical regions in Bangladesh on Wikipedia\n",
      "\tExploring Historiography of Bangladesh on Wikipedia\n",
      "\tExploring Bangladeshi films based on actual events on Wikipedia\n",
      "\tExploring Historical events in Bangladesh on Wikipedia\n",
      "\tExploring Archaeology of Bangladesh on Wikipedia\n",
      "\tExploring Bangladesh history-related lists on Wikipedia\n",
      "\tExploring History of Bangladesh by topic on Wikipedia\n",
      "\tExploring History of Bangladesh by period on Wikipedia\n",
      "\tExploring History of Bangladesh by location on Wikipedia\n",
      "\tExploring Bengali zamindars on Wikipedia\n",
      "\tExploring Rulers of Bengal on Wikipedia\n",
      "\tExploring Medieval Bengal on Wikipedia\n",
      "\tExploring Late modern Bengal on Wikipedia\n",
      "\tExploring History of Sylhet on Wikipedia\n",
      "\tExploring History of Dhaka on Wikipedia\n",
      "\tExploring Dynasties of Bengal on Wikipedia\n",
      "\tExploring Bengal Subah on Wikipedia\n",
      "\tExploring Military history of Bengal on Wikipedia\n",
      "\tExploring Ancient Bengal on Wikipedia\n",
      "\tExploring Governors of Bengal on Wikipedia\n",
      "\tExploring History of West Bengal on Wikipedia\n",
      "\tExploring History of Bangladesh on Wikipedia\n",
      "- Processing Wikipedia pages:\n"
     ]
    },
    {
     "name": "stderr",
     "output_type": "stream",
     "text": [
      "100%|██████████| 635/635 [00:55<00:00, 11.52it/s]"
     ]
    },
    {
     "name": "stdout",
     "output_type": "stream",
     "text": [
      "Found 657 Wikipedia pages\n"
     ]
    },
    {
     "name": "stderr",
     "output_type": "stream",
     "text": [
      "\n"
     ]
    }
   ],
   "source": [
    "# collect all the pages under these categories....\n",
    "extracted_texts = get_wiki(categories)\n",
    "print(\"Found\", len(extracted_texts), \"Wikipedia pages\")"
   ]
  },
  {
   "cell_type": "code",
   "execution_count": 10,
   "metadata": {
    "execution": {
     "iopub.execute_input": "2024-07-19T23:11:45.721223Z",
     "iopub.status.busy": "2024-07-19T23:11:45.720391Z",
     "iopub.status.idle": "2024-07-19T23:11:45.730271Z",
     "shell.execute_reply": "2024-07-19T23:11:45.729192Z",
     "shell.execute_reply.started": "2024-07-19T23:11:45.721180Z"
    },
    "trusted": true
   },
   "outputs": [],
   "source": [
    "#### Dump the texts for future use \n",
    "\n",
    "import pickle\n",
    "with open(\"bengal_history_wikidump.pickle\", 'wb') as file:\n",
    "    pickle.dump(extracted_texts, file)"
   ]
  },
  {
   "cell_type": "markdown",
   "metadata": {},
   "source": [
    "# Reformat text chunks"
   ]
  },
  {
   "cell_type": "markdown",
   "metadata": {},
   "source": [
    "#### How large are the chunks on average?"
   ]
  },
  {
   "cell_type": "code",
   "execution_count": 11,
   "metadata": {
    "execution": {
     "iopub.execute_input": "2024-07-19T23:11:48.952273Z",
     "iopub.status.busy": "2024-07-19T23:11:48.951857Z",
     "iopub.status.idle": "2024-07-19T23:11:49.291256Z",
     "shell.execute_reply": "2024-07-19T23:11:49.290295Z",
     "shell.execute_reply.started": "2024-07-19T23:11:48.952240Z"
    },
    "trusted": true
   },
   "outputs": [
    {
     "name": "stdout",
     "output_type": "stream",
     "text": [
      "Average number of characters per chunk : 5800.86\n"
     ]
    },
    {
     "data": {
      "image/png": "[encoded data removed]",
      "text/plain": [
       "<Figure size 640x480 with 1 Axes>"
      ]
     },
     "metadata": {},
     "output_type": "display_data"
    }
   ],
   "source": [
    "import numpy as np\n",
    "from matplotlib import pyplot as plt\n",
    "\n",
    "chunks_sizes = [len(chunk) for chunk in extracted_texts]\n",
    "print(\"Average number of characters per chunk : \"\"%.2f\" % np.mean(chunks_sizes))\n",
    "\n",
    "percentile_50th = np.percentile(chunks_sizes, 50)\n",
    "plt.hist(chunks_sizes, bins=30)\n",
    "plt.title('Distribution of text-chunks length, with 50th percentile')\n",
    "plt.xlabel('Length of text-chunk in characters')\n",
    "plt.axvline(x = percentile_50th, color = 'yellow', linestyle = '--', alpha = 0.9)\n",
    "plt.gca().spines[['top', 'right',]].set_visible(False)\n",
    "plt.show();\n"
   ]
  },
  {
   "cell_type": "code",
   "execution_count": 12,
   "metadata": {
    "execution": {
     "iopub.execute_input": "2024-07-19T23:11:56.028748Z",
     "iopub.status.busy": "2024-07-19T23:11:56.028057Z",
     "iopub.status.idle": "2024-07-19T23:11:56.035003Z",
     "shell.execute_reply": "2024-07-19T23:11:56.033814Z",
     "shell.execute_reply.started": "2024-07-19T23:11:56.028715Z"
    },
    "trusted": true
   },
   "outputs": [],
   "source": [
    "def split_text_chunks(strings, K, L):\n",
    "    result = []\n",
    "    for string in strings:\n",
    "        if len(string) > K:\n",
    "            i = 0\n",
    "            while i < len(string):\n",
    "                result.append(string[i:i+K])\n",
    "                i += K - L\n",
    "        else:\n",
    "            result.append(string)\n",
    "    return result"
   ]
  },
  {
   "cell_type": "code",
   "execution_count": 13,
   "metadata": {
    "execution": {
     "iopub.execute_input": "2024-07-19T23:11:56.414345Z",
     "iopub.status.busy": "2024-07-19T23:11:56.413981Z",
     "iopub.status.idle": "2024-07-19T23:11:56.721437Z",
     "shell.execute_reply": "2024-07-19T23:11:56.720454Z",
     "shell.execute_reply.started": "2024-07-19T23:11:56.414316Z"
    },
    "trusted": true
   },
   "outputs": [
    {
     "name": "stdout",
     "output_type": "stream",
     "text": [
      "Average number of characters per chunk : 1727.08\n"
     ]
    },
    {
     "data": {
      "image/png": "[encoded data removed]",
      "text/plain": [
       "<Figure size 640x480 with 1 Axes>"
      ]
     },
     "metadata": {},
     "output_type": "display_data"
    }
   ],
   "source": [
    "new_chunks = split_text_chunks(extracted_texts, K=2000, L =1000)\n",
    "\n",
    "chunks_sizes = [len(chunk) for chunk in new_chunks]\n",
    "print(\"Average number of characters per chunk : \"\"%.2f\" % np.mean(chunks_sizes))\n",
    "\n",
    "percentile_50th = np.percentile(chunks_sizes, 50)\n",
    "plt.hist(chunks_sizes, bins=30)\n",
    "plt.title('Distribution of text-chunks length, with 50th percentile')\n",
    "plt.xlabel('Length of text-chunk in characters')\n",
    "plt.axvline(x = percentile_50th, color = 'yellow', linestyle = '--', alpha = 0.9)\n",
    "plt.gca().spines[['top', 'right',]].set_visible(False)\n",
    "plt.show();\n"
   ]
  },
  {
   "cell_type": "code",
   "execution_count": 15,
   "metadata": {
    "execution": {
     "iopub.execute_input": "2024-07-19T23:12:25.904873Z",
     "iopub.status.busy": "2024-07-19T23:12:25.904188Z",
     "iopub.status.idle": "2024-07-19T23:12:25.910248Z",
     "shell.execute_reply": "2024-07-19T23:12:25.909412Z",
     "shell.execute_reply.started": "2024-07-19T23:12:25.904841Z"
    },
    "trusted": true
   },
   "outputs": [
    {
     "data": {
      "text/plain": [
       "4038"
      ]
     },
     "execution_count": 15,
     "metadata": {},
     "output_type": "execute_result"
    }
   ],
   "source": [
    "len(new_chunks)\n",
    "#len(extracted_texts)"
   ]
  },
  {
   "cell_type": "markdown",
   "metadata": {},
   "source": [
    "# Build a vector database using an embedding model"
   ]
  },
  {
   "cell_type": "markdown",
   "metadata": {},
   "source": [
    "\n",
    "#### Download an embedding model. We consider 'BAAI/bge-small-en-v1.5' \n",
    "- The Embedding model will transform the text chunks into numerical vectors in high-dimensions\n",
    "- Embedding vectors corresponding to text chunks similar in meaning (semantics) to each other, are closer to each other in the vector space\n",
    "- Next we use FAISS to build a vector database"
   ]
  },
  {
   "cell_type": "code",
   "execution_count": 16,
   "metadata": {
    "execution": {
     "iopub.execute_input": "2024-07-19T23:12:30.071742Z",
     "iopub.status.busy": "2024-07-19T23:12:30.071415Z",
     "iopub.status.idle": "2024-07-19T23:13:14.837753Z",
     "shell.execute_reply": "2024-07-19T23:13:14.836811Z",
     "shell.execute_reply.started": "2024-07-19T23:12:30.071717Z"
    },
    "trusted": true
   },
   "outputs": [
    {
     "name": "stderr",
     "output_type": "stream",
     "text": [
      "/opt/conda/lib/python3.10/site-packages/sentence_transformers/cross_encoder/CrossEncoder.py:11: TqdmExperimentalWarning: Using `tqdm.autonotebook.tqdm` in notebook mode. Use `tqdm.tqdm` instead to force console mode (e.g. in jupyter console)\n",
      "  from tqdm.autonotebook import tqdm, trange\n",
      "2024-07-19 23:12:37.117677: E external/local_xla/xla/stream_executor/cuda/cuda_dnn.cc:9261] Unable to register cuDNN factory: Attempting to register factory for plugin cuDNN when one has already been registered\n",
      "2024-07-19 23:12:37.117848: E external/local_xla/xla/stream_executor/cuda/cuda_fft.cc:607] Unable to register cuFFT factory: Attempting to register factory for plugin cuFFT when one has already been registered\n",
      "2024-07-19 23:12:37.250903: E external/local_xla/xla/stream_executor/cuda/cuda_blas.cc:1515] Unable to register cuBLAS factory: Attempting to register factory for plugin cuBLAS when one has already been registered\n"
     ]
    },
    {
     "data": {
      "application/vnd.jupyter.widget-view+json": {
       "model_id": "af2778419d8e4a7c8b34c7cd42fd0e0e",
       "version_major": 2,
       "version_minor": 0
      },
      "text/plain": [
       "modules.json:   0%|          | 0.00/349 [00:00<?, ?B/s]"
      ]
     },
     "metadata": {},
     "output_type": "display_data"
    },
    {
     "data": {
      "application/vnd.jupyter.widget-view+json": {
       "model_id": "a283f8cc8947449b98f4b0b4e2e86d33",
       "version_major": 2,
       "version_minor": 0
      },
      "text/plain": [
       "config_sentence_transformers.json:   0%|          | 0.00/124 [00:00<?, ?B/s]"
      ]
     },
     "metadata": {},
     "output_type": "display_data"
    },
    {
     "data": {
      "application/vnd.jupyter.widget-view+json": {
       "model_id": "4f5190ad0ad9443da6e5e213f0f80ae6",
       "version_major": 2,
       "version_minor": 0
      },
      "text/plain": [
       "README.md:   0%|          | 0.00/94.8k [00:00<?, ?B/s]"
      ]
     },
     "metadata": {},
     "output_type": "display_data"
    },
    {
     "data": {
      "application/vnd.jupyter.widget-view+json": {
       "model_id": "f71e8a3a452f49adba33f2cf3dcfb3ea",
       "version_major": 2,
       "version_minor": 0
      },
      "text/plain": [
       "sentence_bert_config.json:   0%|          | 0.00/52.0 [00:00<?, ?B/s]"
      ]
     },
     "metadata": {},
     "output_type": "display_data"
    },
    {
     "data": {
      "application/vnd.jupyter.widget-view+json": {
       "model_id": "7d87b64ccc064f2c937cee08c4514b50",
       "version_major": 2,
       "version_minor": 0
      },
      "text/plain": [
       "config.json:   0%|          | 0.00/743 [00:00<?, ?B/s]"
      ]
     },
     "metadata": {},
     "output_type": "display_data"
    },
    {
     "data": {
      "application/vnd.jupyter.widget-view+json": {
       "model_id": "38723121e2de4333a32ccc3b86ada3b7",
       "version_major": 2,
       "version_minor": 0
      },
      "text/plain": [
       "model.safetensors:   0%|          | 0.00/133M [00:00<?, ?B/s]"
      ]
     },
     "metadata": {},
     "output_type": "display_data"
    },
    {
     "data": {
      "application/vnd.jupyter.widget-view+json": {
       "model_id": "55ee456f1ea8491d9c6b6086878b6209",
       "version_major": 2,
       "version_minor": 0
      },
      "text/plain": [
       "tokenizer_config.json:   0%|          | 0.00/366 [00:00<?, ?B/s]"
      ]
     },
     "metadata": {},
     "output_type": "display_data"
    },
    {
     "data": {
      "application/vnd.jupyter.widget-view+json": {
       "model_id": "d3b92e0f25724b0297e45a4ae20ae618",
       "version_major": 2,
       "version_minor": 0
      },
      "text/plain": [
       "vocab.txt:   0%|          | 0.00/232k [00:00<?, ?B/s]"
      ]
     },
     "metadata": {},
     "output_type": "display_data"
    },
    {
     "data": {
      "application/vnd.jupyter.widget-view+json": {
       "model_id": "2ed509858d4848d5a01f6e48469ec391",
       "version_major": 2,
       "version_minor": 0
      },
      "text/plain": [
       "tokenizer.json:   0%|          | 0.00/711k [00:00<?, ?B/s]"
      ]
     },
     "metadata": {},
     "output_type": "display_data"
    },
    {
     "data": {
      "application/vnd.jupyter.widget-view+json": {
       "model_id": "c787f4fad8d34fd6b0eeb8681871166a",
       "version_major": 2,
       "version_minor": 0
      },
      "text/plain": [
       "special_tokens_map.json:   0%|          | 0.00/125 [00:00<?, ?B/s]"
      ]
     },
     "metadata": {},
     "output_type": "display_data"
    },
    {
     "data": {
      "application/vnd.jupyter.widget-view+json": {
       "model_id": "11b69b2428644a28b856a8b06df16134",
       "version_major": 2,
       "version_minor": 0
      },
      "text/plain": [
       "1_Pooling/config.json:   0%|          | 0.00/190 [00:00<?, ?B/s]"
      ]
     },
     "metadata": {},
     "output_type": "display_data"
    },
    {
     "data": {
      "application/vnd.jupyter.widget-view+json": {
       "model_id": "84ab7f7cbe2c4d98975bfa9349684742",
       "version_major": 2,
       "version_minor": 0
      },
      "text/plain": [
       "Batches:   0%|          | 0/127 [00:00<?, ?it/s]"
      ]
     },
     "metadata": {},
     "output_type": "display_data"
    },
    {
     "name": "stdout",
     "output_type": "stream",
     "text": [
      "CPU times: user 39 s, sys: 2.48 s, total: 41.5 s\n",
      "Wall time: 44.8 s\n"
     ]
    }
   ],
   "source": [
    "%%time\n",
    "# Load a pre-trained sentence transformer model\n",
    "from sentence_transformers import SentenceTransformer, util\n",
    "import faiss\n",
    "from transformers import AutoTokenizer, AutoModel\n",
    "import torch\n",
    "#model = SentenceTransformer('all-MiniLM-L6-v2')\n",
    "model = SentenceTransformer('BAAI/bge-small-en-v1.5') \n",
    "                            \n",
    "# Function to embed text chunks\n",
    "def embed_text_chunks(text_chunks, model):\n",
    "    embeddings = model.encode(text_chunks, convert_to_tensor=True, device='cuda')\n",
    "    cpu_embeddings = embeddings.cpu().numpy()\n",
    "    del embeddings\n",
    "    embeddings = None\n",
    "    torch.cuda.empty_cache()\n",
    "    return cpu_embeddings\n",
    "\n",
    "# Function to create FAISS index\n",
    "def create_faiss_index(text_chunks, model):\n",
    "    embeddings = embed_text_chunks(text_chunks, model)\n",
    "    dimension = embeddings.shape[1]\n",
    "    index = faiss.IndexFlatL2(dimension)\n",
    "    index.add(embeddings)\n",
    "    del embeddings\n",
    "    return index\n",
    "\n",
    "# Create the FAISS index\n",
    "faiss_index = create_faiss_index(new_chunks, model)"
   ]
  },
  {
   "cell_type": "code",
   "execution_count": 17,
   "metadata": {
    "execution": {
     "iopub.execute_input": "2024-07-19T23:13:29.355151Z",
     "iopub.status.busy": "2024-07-19T23:13:29.353978Z",
     "iopub.status.idle": "2024-07-19T23:13:29.359123Z",
     "shell.execute_reply": "2024-07-19T23:13:29.358092Z",
     "shell.execute_reply.started": "2024-07-19T23:13:29.355107Z"
    },
    "trusted": true
   },
   "outputs": [],
   "source": [
    "torch.cuda.empty_cache()"
   ]
  },
  {
   "cell_type": "markdown",
   "metadata": {},
   "source": [
    "#### Download the reranker model.  Consider 'BAAI/bge-reranker-large'\n",
    "- A query on the embedding vectors returns chunks that are most relevant to the query\n",
    "- A reranker is used to further evaluate these chunks, based on certain criteria \n",
    "- It reorders or \"re-ranks\" them according to their quality or relevance"
   ]
  },
  {
   "cell_type": "code",
   "execution_count": 18,
   "metadata": {
    "execution": {
     "iopub.execute_input": "2024-07-19T23:13:31.780609Z",
     "iopub.status.busy": "2024-07-19T23:13:31.780215Z",
     "iopub.status.idle": "2024-07-19T23:14:14.320087Z",
     "shell.execute_reply": "2024-07-19T23:14:14.319117Z",
     "shell.execute_reply.started": "2024-07-19T23:13:31.780577Z"
    },
    "trusted": true
   },
   "outputs": [
    {
     "data": {
      "application/vnd.jupyter.widget-view+json": {
       "model_id": "c8cc59aa22544f74ad81c7e92849d2f4",
       "version_major": 2,
       "version_minor": 0
      },
      "text/plain": [
       "tokenizer_config.json:   0%|          | 0.00/443 [00:00<?, ?B/s]"
      ]
     },
     "metadata": {},
     "output_type": "display_data"
    },
    {
     "data": {
      "application/vnd.jupyter.widget-view+json": {
       "model_id": "70087424a4644e028f5e1a5a4af8f9e7",
       "version_major": 2,
       "version_minor": 0
      },
      "text/plain": [
       "sentencepiece.bpe.model:   0%|          | 0.00/5.07M [00:00<?, ?B/s]"
      ]
     },
     "metadata": {},
     "output_type": "display_data"
    },
    {
     "data": {
      "application/vnd.jupyter.widget-view+json": {
       "model_id": "43e6225aaf5a4cecafe25959686237ec",
       "version_major": 2,
       "version_minor": 0
      },
      "text/plain": [
       "tokenizer.json:   0%|          | 0.00/17.1M [00:00<?, ?B/s]"
      ]
     },
     "metadata": {},
     "output_type": "display_data"
    },
    {
     "data": {
      "application/vnd.jupyter.widget-view+json": {
       "model_id": "99a0958a916e43fabd1dac12691eb924",
       "version_major": 2,
       "version_minor": 0
      },
      "text/plain": [
       "special_tokens_map.json:   0%|          | 0.00/279 [00:00<?, ?B/s]"
      ]
     },
     "metadata": {},
     "output_type": "display_data"
    },
    {
     "data": {
      "application/vnd.jupyter.widget-view+json": {
       "model_id": "f4b569f68b3349de9bf6f86815258d36",
       "version_major": 2,
       "version_minor": 0
      },
      "text/plain": [
       "config.json:   0%|          | 0.00/801 [00:00<?, ?B/s]"
      ]
     },
     "metadata": {},
     "output_type": "display_data"
    },
    {
     "data": {
      "application/vnd.jupyter.widget-view+json": {
       "model_id": "d86c336e78484d41a57f774465167f3a",
       "version_major": 2,
       "version_minor": 0
      },
      "text/plain": [
       "model.safetensors:   0%|          | 0.00/2.24G [00:00<?, ?B/s]"
      ]
     },
     "metadata": {},
     "output_type": "display_data"
    },
    {
     "name": "stdout",
     "output_type": "stream",
     "text": [
      "CPU times: user 5.88 s, sys: 5.62 s, total: 11.5 s\n",
      "Wall time: 42.5 s\n"
     ]
    }
   ],
   "source": [
    "%%time\n",
    "from FlagEmbedding import FlagReranker\n",
    "reranker = FlagReranker('BAAI/bge-reranker-large', use_fp16=True) # Setting use_fp16 to True speeds up computation with a slight performance degradation"
   ]
  },
  {
   "cell_type": "code",
   "execution_count": 19,
   "metadata": {
    "execution": {
     "iopub.execute_input": "2024-07-19T23:14:15.705497Z",
     "iopub.status.busy": "2024-07-19T23:14:15.704767Z",
     "iopub.status.idle": "2024-07-19T23:14:15.711711Z",
     "shell.execute_reply": "2024-07-19T23:14:15.710507Z",
     "shell.execute_reply.started": "2024-07-19T23:14:15.705459Z"
    },
    "trusted": true
   },
   "outputs": [],
   "source": [
    "# Function to search the FAISS index\n",
    "def query_faiss(query_text, index, model, k=5):\n",
    "    query_embedding = model.encode([query_text], convert_to_tensor=True, device='cuda').cpu().numpy()\n",
    "    distances, indices = index.search(query_embedding, k)\n",
    "    return distances, indices\n",
    "\n",
    "\n"
   ]
  },
  {
   "cell_type": "markdown",
   "metadata": {},
   "source": [
    "# Load the Large Language Model and Query\n",
    "\n",
    "- We use Gemma2B, a pretrained lightweight LLM wih 2 billion parameters, released by Google \n"
   ]
  },
  {
   "cell_type": "code",
   "execution_count": 20,
   "metadata": {
    "execution": {
     "iopub.execute_input": "2024-07-19T23:14:17.977989Z",
     "iopub.status.busy": "2024-07-19T23:14:17.977264Z",
     "iopub.status.idle": "2024-07-19T23:14:54.811886Z",
     "shell.execute_reply": "2024-07-19T23:14:54.810997Z",
     "shell.execute_reply.started": "2024-07-19T23:14:17.977959Z"
    },
    "trusted": true
   },
   "outputs": [
    {
     "name": "stderr",
     "output_type": "stream",
     "text": [
      "`config.hidden_act` is ignored, you should use `config.hidden_activation` instead.\n",
      "Gemma's activation function will be set to `gelu_pytorch_tanh`. Please, use\n",
      "`config.hidden_activation` if you want to override this behaviour.\n",
      "See https://github.com/huggingface/transformers/pull/29402 for more details.\n"
     ]
    },
    {
     "data": {
      "application/vnd.jupyter.widget-view+json": {
       "model_id": "6eb88e44bdaf412594d568acf9821ca5",
       "version_major": 2,
       "version_minor": 0
      },
      "text/plain": [
       "Loading checkpoint shards:   0%|          | 0/2 [00:00<?, ?it/s]"
      ]
     },
     "metadata": {},
     "output_type": "display_data"
    },
    {
     "name": "stdout",
     "output_type": "stream",
     "text": [
      "Done loading model: /kaggle/input/gemma/transformers/2b-it/3\n",
      "CPU times: user 8.04 s, sys: 7.84 s, total: 15.9 s\n",
      "Wall time: 35.4 s\n"
     ]
    }
   ],
   "source": [
    "%%time\n",
    "\n",
    "language_model_name = \"/kaggle/input/gemma/transformers/2b-it/3\" #\"\n",
    "from transformers import AutoTokenizer, AutoModelForCausalLM\n",
    "tokenizer = AutoTokenizer.from_pretrained(language_model_name, use_fast = True)\n",
    "language_model = AutoModelForCausalLM.from_pretrained(language_model_name, \n",
    "                            device_map=\"cuda\",  # change this to \"auto\" if you want to run the LLM distributed on 2 GPUs, \n",
    "                             trust_remote_code=False,\n",
    "                                             revision=\"main\")\n",
    "language_model.config.hidden_activation = 'gelu_pytorch_tanh'\n",
    "\n",
    "\n",
    "### insert your code here!\n",
    "print('Done loading model: '+ language_model_name)"
   ]
  },
  {
   "cell_type": "markdown",
   "metadata": {},
   "source": [
    "#### Specify system prompt\n"
   ]
  },
  {
   "cell_type": "code",
   "execution_count": 21,
   "metadata": {
    "execution": {
     "iopub.execute_input": "2024-07-19T23:15:28.286375Z",
     "iopub.status.busy": "2024-07-19T23:15:28.285748Z",
     "iopub.status.idle": "2024-07-19T23:15:28.290547Z",
     "shell.execute_reply": "2024-07-19T23:15:28.289540Z",
     "shell.execute_reply.started": "2024-07-19T23:15:28.286342Z"
    },
    "trusted": true
   },
   "outputs": [],
   "source": [
    "system_message =  \"\"\"You are a helpful AI tutor who is an expert on Bengal History.\n",
    "Answer the question using the context provided.\n",
    "Add as many details as possible\n",
    "\"\"\""
   ]
  },
  {
   "cell_type": "markdown",
   "metadata": {},
   "source": [
    "\n",
    "#### Specify the query, aka question we want to ask\n",
    "- Some example questions\n"
   ]
  },
  {
   "cell_type": "code",
   "execution_count": 31,
   "metadata": {
    "execution": {
     "iopub.execute_input": "2024-07-19T23:24:12.698466Z",
     "iopub.status.busy": "2024-07-19T23:24:12.698035Z",
     "iopub.status.idle": "2024-07-19T23:24:12.704963Z",
     "shell.execute_reply": "2024-07-19T23:24:12.703728Z",
     "shell.execute_reply.started": "2024-07-19T23:24:12.698431Z"
    },
    "trusted": true
   },
   "outputs": [],
   "source": [
    "\n",
    "query1 = \"Who was Shashanka?\" \n",
    "query2 = \"When did the partition of Bengal take place?\" \n",
    "query3 = \"Who founded Young Bengal?\" \n",
    "query4 = \"When was Mujibur Rahaman assassinated?\" \n",
    "query5 = \"What is Rabindranath Tagore famous for?\"\n",
    "query6 = \"Where was the Portuguese trading posts in Bengal?\"\n",
    "query7 = \"Who founded the Pala Empire?\" \n",
    "query8 = \"What was thw religion of the Pala Empire?\"\n",
    "query9 =  \"How did Islam spread in Bengal?\"\n",
    "query10 = \"What was the Brahmo movement?\"\n",
    "\n",
    "query_list = [query1, query2, query3, query4, query5, query6, query7, query8, query9, query10]"
   ]
  },
  {
   "cell_type": "markdown",
   "metadata": {},
   "source": [
    "#### Can the LLM answer these questions without RAG?\n",
    "- Not really! Most answers in fact are garbage"
   ]
  },
  {
   "cell_type": "code",
   "execution_count": 32,
   "metadata": {
    "execution": {
     "iopub.execute_input": "2024-07-19T23:24:13.322887Z",
     "iopub.status.busy": "2024-07-19T23:24:13.322499Z",
     "iopub.status.idle": "2024-07-19T23:24:47.855666Z",
     "shell.execute_reply": "2024-07-19T23:24:47.854706Z",
     "shell.execute_reply.started": "2024-07-19T23:24:13.322857Z"
    },
    "trusted": true
   },
   "outputs": [
    {
     "name": "stdout",
     "output_type": "stream",
     "text": [
      "<bos>Who was Shashanka?\n",
      "\n",
      "Shashanka was a legendary king of the ancient city of Patala, India. He was known for his military prowess and his ability to defeat the powerful army of the demon king Ravana. Shashanka was also a wise and just ruler who was known for his generosity and his kindness.<eos>\n",
      "<bos>When did the partition of Bengal take place?\n",
      "\n",
      "The partition of Bengal took place between 1947 and 1949.<eos>\n",
      "<bos>Who founded Young Bengal?\n",
      "\n",
      "Young Bengal is a political and social organization in India. It was founded in 1903 by **Bankim Chandra Chatterjee**.<eos>\n",
      "<bos>When was Mujibur Rahaman assassinated?\n",
      "\n",
      "There is no evidence to support the claim that Mujibur Rahaman was assassinated.<eos>\n",
      "<bos>What is Rabindranath Tagore famous for?\n",
      "\n",
      "Rabindranath Tagore is a renowned poet, songwriter, composer, and Nobel laureate. He is considered one of the greatest poets of the 20th century. His works have been translated into more than 50 languages and continue to inspire and influence people worldwide.\n",
      "\n",
      "Tagore's poetry is characterized by its beauty, depth, and emotional resonance. He often explored themes of love, loss, nature, and social issues. His lyrics are often simple yet profound, and his stories are often rich in symbolism.\n",
      "\n",
      "Tagore was also a prolific songwriter, with over 1,000 songs to his credit. He was a gifted composer, and his music is often complex and innovative. He was also a skilled lyricist, and his lyrics are often memorable and poignant.\n",
      "\n",
      "In addition to his literary achievements, Tagore was also a successful playwright, composer, and painter. He was a pioneer in the field of modern Indian theater, and his plays have been performed all over the world. He was also a pioneer in the field of Indian music, and his compositions have been performed by some of the greatest musicians in the world.\n",
      "\n",
      "Tagore's legacy continues to inspire and influence people around the world. He is a symbol of hope, love, and creativity. His works are a testament to the power of the human spirit, and they continue to remind us of the importance of peace, understanding, and compassion.<eos>\n",
      "<bos>Where was the Portuguese trading posts in Bengal?\n",
      "\n",
      "The Portuguese trading posts in Bengal were located in the port city of Kolkata.<eos>\n",
      "<bos>Who founded the Pala Empire?\n",
      "\n",
      "The Pala Empire was founded by the Pala people, a nomadic tribe from the Middle East.<eos>\n",
      "<bos>What was thw religion of the Pala Empire?\n",
      "\n",
      "The Pala Empire was a powerful empire in the eastern Mediterranean from the 6th to the 13th century. The empire was centered in the city of Palmyra, in present-day Jordan. The Pala Empire was one of the largest and most powerful empires in the eastern Mediterranean, and its religion was based on the worship of the ancient gods of the region.\n",
      "\n",
      "The religion of the Pala Empire was based on the worship of the ancient gods of the region. The empire was centered in the city of Palmyra, in present-day Jordan, and its religion was based on the worship of the ancient gods of the region, including Aswan, Amun, and Horus. The empire also practiced the worship of the goddess Ishtar, and the worship of the god of the sun, Sekhmet.<eos>\n",
      "<bos>How did Islam spread in Bengal?\n",
      "\n",
      "Islam spread in Bengal through trade, conquest, and missionary activity.\n",
      "\n",
      "**Trade:**\n",
      "\n",
      "* Bengal was a major trading hub in the medieval period.\n",
      "* Trade routes connected Bengal to the Middle East, North Africa, and Southeast Asia.\n",
      "* Goods such as spices, textiles, and precious stones were traded between Bengal and these regions.\n",
      "\n",
      "**Conquest:**\n",
      "\n",
      "* In the 16th century, the Portuguese East India Company (PEIC) established a trading post in Bengal.\n",
      "* The PEIC's expansion and influence led to the conquest of large areas of Bengal in the 17th and 18th centuries.\n",
      "* The British East India Company (BEIC) later took control of the region.\n",
      "\n",
      "**Missionary Activity:**\n",
      "\n",
      "* Islamic missionaries from the 16th century onwards played a significant role in spreading Islam in Bengal.\n",
      "* Missionary efforts focused on converting Hindus to Islam.\n",
      "* Madrasas, Islamic schools, and mosques were established throughout the region.\n",
      "* Islamic teachings and practices were introduced into Hindu society.\n",
      "\n",
      "**Impact of Islam on Bengal:**\n",
      "\n",
      "* Islam had a profound impact on Bengal, leading to the development of a rich cultural and intellectual tradition.\n",
      "* The introduction of new religious practices, arts, and literature enriched the cultural landscape.\n",
      "* Bengal became a center of Islamic scholarship and education.\n",
      "* Islam also influenced the political and social systems of the region.\n",
      "\n",
      "**Conclusion:**\n",
      "\n",
      "Islam spread in Bengal through a combination of trade, conquest, and missionary activity. The region became a major center of Islamic culture and influence, leaving a lasting legacy on the cultural and political landscape of India.<eos>\n",
      "<bos>What was the Brahmo movement?\n",
      "\n",
      "The Brahmo movement was a social and political movement in India that emerged in the early 20th century. The movement was founded by Bal Gangadhar Tilak, a prominent leader of the Indian National Congress. The Brahmo movement was based on the principles of non-violence, equality, and social justice.\n",
      "\n",
      "The Brahmo movement was a response to the growing influence of the British colonial government in India. The British colonial government was seen as being oppressive and unfair to the Indian people. The Brahmo movement sought to challenge the British colonial government and to create a more just and equitable society.\n",
      "\n",
      "The Brahmo movement was successful in achieving some of its goals. The movement was able to raise awareness of the plight of the Indian people and to inspire them to fight for change. The movement was also able to influence the British colonial government to make some concessions, such as the release of political prisoners and the granting of some political rights to the Indian people.\n",
      "\n",
      "The Brahmo movement was a significant force in the history of India. The movement helped to shape the country's future and to bring about a new era of democracy and equality.<eos>\n",
      "CPU times: user 34.5 s, sys: 21.6 ms, total: 34.5 s\n",
      "Wall time: 34.5 s\n"
     ]
    }
   ],
   "source": [
    "%%time\n",
    "for query in query_list:\n",
    "    input_ids = tokenizer(query, return_tensors=\"pt\").to(\"cuda\")\n",
    "\n",
    "    outputs = language_model.generate(**input_ids, max_new_tokens = 1024, do_sample = True, top_k = 5, top_p = 0.1, temperature = 0.1)\n",
    "    full_answer = tokenizer.decode(outputs[0])\n",
    "    torch.cuda.empty_cache()\n",
    "    print(full_answer)\n",
    "    "
   ]
  },
  {
   "cell_type": "markdown",
   "metadata": {},
   "source": [
    "#### query the vector database to identify matching chunks\n",
    "\n",
    "- We choose the top 5 best matching chunks (this number could be something else as well, by varying the n_results parameter)\n",
    "\n",
    "#### context_chunks_init are the chunks with relevant context (with regards to the query)\n",
    "\n",
    "- We will use the reranker to sort these chunks based on relevance\n",
    "\n",
    "#### Keep the \"best\" chunks that are the most relevant as per the reranker\n",
    " - Use a threshold\n",
    " \n",
    " #### Query the LLM with the full query, with system_message, context and query"
   ]
  },
  {
   "cell_type": "code",
   "execution_count": 33,
   "metadata": {
    "execution": {
     "iopub.execute_input": "2024-07-19T23:24:47.857988Z",
     "iopub.status.busy": "2024-07-19T23:24:47.857623Z",
     "iopub.status.idle": "2024-07-19T23:25:04.058331Z",
     "shell.execute_reply": "2024-07-19T23:25:04.057332Z",
     "shell.execute_reply.started": "2024-07-19T23:24:47.857955Z"
    },
    "trusted": true
   },
   "outputs": [
    {
     "data": {
      "application/vnd.jupyter.widget-view+json": {
       "model_id": "506df98dc9754f968865e04c594cbedf",
       "version_major": 2,
       "version_minor": 0
      },
      "text/plain": [
       "Batches:   0%|          | 0/1 [00:00<?, ?it/s]"
      ]
     },
     "metadata": {},
     "output_type": "display_data"
    },
    {
     "name": "stdout",
     "output_type": "stream",
     "text": [
      "\n",
      "Question:Who was Shashanka?\n",
      "\n",
      " Shashanka was the first independent king of a unified polity in the Bengal region, called the Gauda Kingdom. He reigned in the 7th century, some historians place his rule between c. 600 and 636/7 CE, whereas other sources place his reign between 590 and 625 CE.\n"
     ]
    },
    {
     "data": {
      "application/vnd.jupyter.widget-view+json": {
       "model_id": "f0ec3a45286644fc991ad7909593b988",
       "version_major": 2,
       "version_minor": 0
      },
      "text/plain": [
       "Batches:   0%|          | 0/1 [00:00<?, ?it/s]"
      ]
     },
     "metadata": {},
     "output_type": "display_data"
    },
    {
     "name": "stdout",
     "output_type": "stream",
     "text": [
      "\n",
      "Question:When did the partition of Bengal take place?\n",
      "\n",
      " The partition of Bengal took place in 1947.\n"
     ]
    },
    {
     "data": {
      "application/vnd.jupyter.widget-view+json": {
       "model_id": "9ca36e3b11de4e27b5e06af804f82906",
       "version_major": 2,
       "version_minor": 0
      },
      "text/plain": [
       "Batches:   0%|          | 0/1 [00:00<?, ?it/s]"
      ]
     },
     "metadata": {},
     "output_type": "display_data"
    },
    {
     "name": "stdout",
     "output_type": "stream",
     "text": [
      "\n",
      "Question:Who founded Young Bengal?\n",
      "\n",
      " Henry Louis Vivian Derozio founded the Young Bengal Movement.\n"
     ]
    },
    {
     "data": {
      "application/vnd.jupyter.widget-view+json": {
       "model_id": "eea8c6fd1e7245e39b01ce0ebb67fd32",
       "version_major": 2,
       "version_minor": 0
      },
      "text/plain": [
       "Batches:   0%|          | 0/1 [00:00<?, ?it/s]"
      ]
     },
     "metadata": {},
     "output_type": "display_data"
    },
    {
     "name": "stdout",
     "output_type": "stream",
     "text": [
      "\n",
      "Question:When was Mujibur Rahaman assassinated?\n",
      "\n",
      " 15 August 1975.\n",
      "\n",
      "    Details: Mujibur Rahaman was assassinated by a group of junior army rebels on 15 August 1975.\n"
     ]
    },
    {
     "data": {
      "application/vnd.jupyter.widget-view+json": {
       "model_id": "fa5a9f2276084af2a9869f4a37481dca",
       "version_major": 2,
       "version_minor": 0
      },
      "text/plain": [
       "Batches:   0%|          | 0/1 [00:00<?, ?it/s]"
      ]
     },
     "metadata": {},
     "output_type": "display_data"
    },
    {
     "name": "stdout",
     "output_type": "stream",
     "text": [
      "\n",
      "Question:What is Rabindranath Tagore famous for?\n",
      "\n",
      " Rabindranath Tagore is famous for his profoundly sensitive, fresh and beautiful poetry of Gitanjali, in 1913 Tagore became the first non-European and the first lyricist to win the Nobel Prize in Literature.\n"
     ]
    },
    {
     "data": {
      "application/vnd.jupyter.widget-view+json": {
       "model_id": "caebcfcfd5d442fd8b1c09957dd49e6d",
       "version_major": 2,
       "version_minor": 0
      },
      "text/plain": [
       "Batches:   0%|          | 0/1 [00:00<?, ?it/s]"
      ]
     },
     "metadata": {},
     "output_type": "display_data"
    },
    {
     "name": "stdout",
     "output_type": "stream",
     "text": [
      "\n",
      "Question:Where was the Portuguese trading posts in Bengal?\n",
      "\n",
      " The Portuguese trading posts in Bengal were established at Hooghly, Chinsura, Serampore, and Calcutta.\n"
     ]
    },
    {
     "data": {
      "application/vnd.jupyter.widget-view+json": {
       "model_id": "43529071e62d4ecfb4dc53200e7f564c",
       "version_major": 2,
       "version_minor": 0
      },
      "text/plain": [
       "Batches:   0%|          | 0/1 [00:00<?, ?it/s]"
      ]
     },
     "metadata": {},
     "output_type": "display_data"
    },
    {
     "name": "stdout",
     "output_type": "stream",
     "text": [
      "\n",
      "Question:Who founded the Pala Empire?\n",
      "\n",
      " The Pala Empire was founded with the election of Gopāla as the emperor of Gauda in late eighth century CE.\n"
     ]
    },
    {
     "data": {
      "application/vnd.jupyter.widget-view+json": {
       "model_id": "10826a9a678a4077a3a82bddd018a5f7",
       "version_major": 2,
       "version_minor": 0
      },
      "text/plain": [
       "Batches:   0%|          | 0/1 [00:00<?, ?it/s]"
      ]
     },
     "metadata": {},
     "output_type": "display_data"
    },
    {
     "name": "stdout",
     "output_type": "stream",
     "text": [
      "\n",
      "Question:What was thw religion of the Pala Empire?\n",
      "\n",
      " The Pala Empire was the first independent Buddhist dynasty of Bengal.\n"
     ]
    },
    {
     "data": {
      "application/vnd.jupyter.widget-view+json": {
       "model_id": "90d273c86d8946cc8da1c7440fd758d3",
       "version_major": 2,
       "version_minor": 0
      },
      "text/plain": [
       "Batches:   0%|          | 0/1 [00:00<?, ?it/s]"
      ]
     },
     "metadata": {},
     "output_type": "display_data"
    },
    {
     "name": "stdout",
     "output_type": "stream",
     "text": [
      "\n",
      "Question:How did Islam spread in Bengal?\n",
      "\n",
      " Islam spread in Bengal because of its localisation. Islamic agencies were inserted into the contemporary cosmology, were then associated with local divinities and eventually the Islamic agencies took over the local culture.\n"
     ]
    },
    {
     "data": {
      "application/vnd.jupyter.widget-view+json": {
       "model_id": "b6148236c1c74eb2b7493ead011fa2c2",
       "version_major": 2,
       "version_minor": 0
      },
      "text/plain": [
       "Batches:   0%|          | 0/1 [00:00<?, ?it/s]"
      ]
     },
     "metadata": {},
     "output_type": "display_data"
    },
    {
     "name": "stdout",
     "output_type": "stream",
     "text": [
      "\n",
      "Question:What was the Brahmo movement?\n",
      "\n",
      " The Brahmo movement was a Hindu religious movement which originated from the mid-19th century Bengali Renaissance, the nascent Indian independence movement.\n",
      "CPU times: user 16 s, sys: 302 ms, total: 16.3 s\n",
      "Wall time: 16.2 s\n"
     ]
    }
   ],
   "source": [
    "%%time\n",
    "n_top_matches = 5\n",
    "\n",
    "for query in query_list:\n",
    "    \n",
    "    distances, indices = query_faiss(query, faiss_index, model, k = n_top_matches)\n",
    "    #print(distances)\n",
    "    context_chunks_init = []\n",
    "    for i in range(n_top_matches):\n",
    "        context_chunks_init.append(new_chunks[indices[0][i]])\n",
    "\n",
    "    #make pairs of query and chunks\n",
    "    query_and_chunks = [[query, chunk] for chunk in context_chunks_init]\n",
    "    scores_reranker = reranker.compute_score(query_and_chunks)\n",
    "    #print(\"Scores of retrieved chunks:\\n\", np.round(  scores_reranker, decimals =2))\n",
    "    # indexes sorted according to new rank\n",
    "    #print(\"\\nOld order of retrieved chunks:\", np.arange(n_top_matches))\n",
    "    max_idx_reranked = np.argsort(-np.array(scores_reranker))\n",
    "    #print(\"\\nRe-ranked order of retrieved chunks:\", max_idx_reranked)\n",
    "\n",
    "    cut_off_score = 0\n",
    "    min_score = np.max(scores_reranker)\n",
    "    # if np.max(scores_reranker) > cut_off_score:\n",
    "    #     cut_off_score = 3\n",
    "\n",
    "    context_chunks = []\n",
    "    for idx in max_idx_reranked:\n",
    "        if scores_reranker[idx] >= min_score:\n",
    "            context_chunks.append(context_chunks_init[idx])\n",
    "\n",
    "    prompt_template = system_message + \"\"\"\\n\\n\\nContext:\n",
    "    {context}\n",
    "\n",
    "    Question: {question}\n",
    "\n",
    "    Answer:\"\"\"\n",
    "\n",
    "    context_chunks_as_str = '\\n###\\n'.join([str(elem) for elem in context_chunks])\n",
    "    llm_full_query = prompt_template.format(context=context_chunks_as_str, question=query)\n",
    "\n",
    "\n",
    "    input_ids = tokenizer(llm_full_query, return_tensors=\"pt\").to(\"cuda\")\n",
    "\n",
    "    outputs = language_model.generate(**input_ids, max_new_tokens = 1024, do_sample = True, top_k = 5, top_p = 0.1, temperature = 0.1)\n",
    "    full_answer = tokenizer.decode(outputs[0])\n",
    "\n",
    "    printed_answer = full_answer.split(\"Answer:\")[1]\n",
    "    printed_answer = printed_answer.split(\"<eos>\")[0]\n",
    "    print(\"\\nQuestion:\" + query+\"\\n\")\n",
    "    print(printed_answer)\n",
    "\n",
    "    torch.cuda.empty_cache()"
   ]
  },
  {
   "cell_type": "code",
   "execution_count": null,
   "metadata": {},
   "outputs": [],
   "source": []
  }
 ],
 "metadata": {
  "kaggle": {
   "accelerator": "gpu",
   "dataSources": [
    {
     "modelId": 3301,
     "modelInstanceId": 8318,
     "sourceId": 28785,
     "sourceType": "modelInstanceVersion"
    }
   ],
   "dockerImageVersionId": 30746,
   "isGpuEnabled": true,
   "isInternetEnabled": true,
   "language": "python",
   "sourceType": "notebook"
  },
  "kernelspec": {
   "display_name": "Python 3",
   "language": "python",
   "name": "python3"
  },
  "language_info": {
   "codemirror_mode": {
    "name": "ipython",
    "version": 3
   },
   "file_extension": ".py",
   "mimetype": "text/x-python",
   "name": "python",
   "nbconvert_exporter": "python",
   "pygments_lexer": "ipython3",
   "version": "3.10.13"
  }
 },
 "nbformat": 4,
 "nbformat_minor": 4
}
